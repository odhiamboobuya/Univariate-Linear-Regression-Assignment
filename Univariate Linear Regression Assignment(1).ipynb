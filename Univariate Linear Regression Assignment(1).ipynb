{
 "cells": [
  {
   "cell_type": "markdown",
   "metadata": {},
   "source": [
    "## CCI 501 - Machine Learning\n",
    "**Univariate Linear Regression group assignment**\n",
    "- Esther Mbithe - P52/37402/2020\n",
    "- Kevin Odhiambo - P52/37678/2020\n",
    "- Peter Kariuki Mutuura - P52/37710/2020\n",
    "\n",
    "\n",
    "## Importing data and  the relevant libraries"
   ]
  },
  {
   "cell_type": "code",
   "execution_count": 519,
   "metadata": {},
   "outputs": [
    {
     "data": {
      "text/html": [
       "<div>\n",
       "<style scoped>\n",
       "    .dataframe tbody tr th:only-of-type {\n",
       "        vertical-align: middle;\n",
       "    }\n",
       "\n",
       "    .dataframe tbody tr th {\n",
       "        vertical-align: top;\n",
       "    }\n",
       "\n",
       "    .dataframe thead th {\n",
       "        text-align: right;\n",
       "    }\n",
       "</style>\n",
       "<table border=\"1\" class=\"dataframe\">\n",
       "  <thead>\n",
       "    <tr style=\"text-align: right;\">\n",
       "      <th></th>\n",
       "      <th>PRT_ID</th>\n",
       "      <th>AREA</th>\n",
       "      <th>INT_SQFT</th>\n",
       "      <th>DIST_MAINROAD</th>\n",
       "      <th>N_BEDROOM</th>\n",
       "      <th>N_BATHROOM</th>\n",
       "      <th>N_ROOM</th>\n",
       "      <th>SALE_COND</th>\n",
       "      <th>PARK_FACIL</th>\n",
       "      <th>BUILDTYPE</th>\n",
       "      <th>UTILITY_AVAIL</th>\n",
       "      <th>STREET</th>\n",
       "      <th>MZZONE</th>\n",
       "      <th>QS_ROOMS</th>\n",
       "      <th>QS_BATHROOM</th>\n",
       "      <th>QS_BEDROOM</th>\n",
       "      <th>QS_OVERALL</th>\n",
       "      <th>COMMIS</th>\n",
       "      <th>SALES_PRICE</th>\n",
       "    </tr>\n",
       "  </thead>\n",
       "  <tbody>\n",
       "    <tr>\n",
       "      <th>0</th>\n",
       "      <td>P03210</td>\n",
       "      <td>Karapakkam</td>\n",
       "      <td>1004</td>\n",
       "      <td>131</td>\n",
       "      <td>1.0</td>\n",
       "      <td>1.0</td>\n",
       "      <td>3</td>\n",
       "      <td>AbNormal</td>\n",
       "      <td>Yes</td>\n",
       "      <td>Commercial</td>\n",
       "      <td>AllPub</td>\n",
       "      <td>Paved</td>\n",
       "      <td>A</td>\n",
       "      <td>4.0</td>\n",
       "      <td>3.9</td>\n",
       "      <td>4.9</td>\n",
       "      <td>4.330</td>\n",
       "      <td>144400</td>\n",
       "      <td>7600000</td>\n",
       "    </tr>\n",
       "    <tr>\n",
       "      <th>1</th>\n",
       "      <td>P09411</td>\n",
       "      <td>Anna Nagar</td>\n",
       "      <td>1986</td>\n",
       "      <td>26</td>\n",
       "      <td>2.0</td>\n",
       "      <td>1.0</td>\n",
       "      <td>5</td>\n",
       "      <td>AbNormal</td>\n",
       "      <td>No</td>\n",
       "      <td>Commercial</td>\n",
       "      <td>AllPub</td>\n",
       "      <td>Gravel</td>\n",
       "      <td>RH</td>\n",
       "      <td>4.9</td>\n",
       "      <td>4.2</td>\n",
       "      <td>2.5</td>\n",
       "      <td>3.765</td>\n",
       "      <td>304049</td>\n",
       "      <td>21717770</td>\n",
       "    </tr>\n",
       "    <tr>\n",
       "      <th>2</th>\n",
       "      <td>P01812</td>\n",
       "      <td>Adyar</td>\n",
       "      <td>909</td>\n",
       "      <td>70</td>\n",
       "      <td>1.0</td>\n",
       "      <td>1.0</td>\n",
       "      <td>3</td>\n",
       "      <td>AbNormal</td>\n",
       "      <td>Yes</td>\n",
       "      <td>Commercial</td>\n",
       "      <td>ELO</td>\n",
       "      <td>Gravel</td>\n",
       "      <td>RL</td>\n",
       "      <td>4.1</td>\n",
       "      <td>3.8</td>\n",
       "      <td>2.2</td>\n",
       "      <td>3.090</td>\n",
       "      <td>92114</td>\n",
       "      <td>13159200</td>\n",
       "    </tr>\n",
       "    <tr>\n",
       "      <th>3</th>\n",
       "      <td>P05346</td>\n",
       "      <td>Velachery</td>\n",
       "      <td>1855</td>\n",
       "      <td>14</td>\n",
       "      <td>3.0</td>\n",
       "      <td>2.0</td>\n",
       "      <td>5</td>\n",
       "      <td>Family</td>\n",
       "      <td>No</td>\n",
       "      <td>Others</td>\n",
       "      <td>NoSewr</td>\n",
       "      <td>Paved</td>\n",
       "      <td>I</td>\n",
       "      <td>4.7</td>\n",
       "      <td>3.9</td>\n",
       "      <td>3.6</td>\n",
       "      <td>4.010</td>\n",
       "      <td>77042</td>\n",
       "      <td>9630290</td>\n",
       "    </tr>\n",
       "    <tr>\n",
       "      <th>4</th>\n",
       "      <td>P06210</td>\n",
       "      <td>Karapakkam</td>\n",
       "      <td>1226</td>\n",
       "      <td>84</td>\n",
       "      <td>1.0</td>\n",
       "      <td>1.0</td>\n",
       "      <td>3</td>\n",
       "      <td>AbNormal</td>\n",
       "      <td>Yes</td>\n",
       "      <td>Others</td>\n",
       "      <td>AllPub</td>\n",
       "      <td>Gravel</td>\n",
       "      <td>C</td>\n",
       "      <td>3.0</td>\n",
       "      <td>2.5</td>\n",
       "      <td>4.1</td>\n",
       "      <td>3.290</td>\n",
       "      <td>74063</td>\n",
       "      <td>7406250</td>\n",
       "    </tr>\n",
       "  </tbody>\n",
       "</table>\n",
       "</div>"
      ],
      "text/plain": [
       "   PRT_ID        AREA  INT_SQFT  DIST_MAINROAD  N_BEDROOM  N_BATHROOM  N_ROOM  \\\n",
       "0  P03210  Karapakkam      1004            131        1.0         1.0       3   \n",
       "1  P09411  Anna Nagar      1986             26        2.0         1.0       5   \n",
       "2  P01812       Adyar       909             70        1.0         1.0       3   \n",
       "3  P05346   Velachery      1855             14        3.0         2.0       5   \n",
       "4  P06210  Karapakkam      1226             84        1.0         1.0       3   \n",
       "\n",
       "  SALE_COND PARK_FACIL   BUILDTYPE UTILITY_AVAIL  STREET MZZONE  QS_ROOMS  \\\n",
       "0  AbNormal        Yes  Commercial        AllPub   Paved      A       4.0   \n",
       "1  AbNormal         No  Commercial        AllPub  Gravel     RH       4.9   \n",
       "2  AbNormal        Yes  Commercial           ELO  Gravel     RL       4.1   \n",
       "3    Family         No      Others       NoSewr    Paved      I       4.7   \n",
       "4  AbNormal        Yes      Others        AllPub  Gravel      C       3.0   \n",
       "\n",
       "   QS_BATHROOM  QS_BEDROOM  QS_OVERALL  COMMIS  SALES_PRICE  \n",
       "0          3.9         4.9       4.330  144400      7600000  \n",
       "1          4.2         2.5       3.765  304049     21717770  \n",
       "2          3.8         2.2       3.090   92114     13159200  \n",
       "3          3.9         3.6       4.010   77042      9630290  \n",
       "4          2.5         4.1       3.290   74063      7406250  "
      ]
     },
     "execution_count": 519,
     "metadata": {},
     "output_type": "execute_result"
    }
   ],
   "source": [
    "import pandas as pd\n",
    "import matplotlib.pyplot as plt\n",
    "data = pd.read_csv(\"/home/user45/Downloads/2. data exploration - univariate/chennai_house_price_prediction.csv\")\n",
    "data.head()"
   ]
  },
  {
   "cell_type": "code",
   "execution_count": 520,
   "metadata": {},
   "outputs": [
    {
     "data": {
      "text/html": [
       "<div>\n",
       "<style scoped>\n",
       "    .dataframe tbody tr th:only-of-type {\n",
       "        vertical-align: middle;\n",
       "    }\n",
       "\n",
       "    .dataframe tbody tr th {\n",
       "        vertical-align: top;\n",
       "    }\n",
       "\n",
       "    .dataframe thead th {\n",
       "        text-align: right;\n",
       "    }\n",
       "</style>\n",
       "<table border=\"1\" class=\"dataframe\">\n",
       "  <thead>\n",
       "    <tr style=\"text-align: right;\">\n",
       "      <th></th>\n",
       "      <th>INT_SQFT</th>\n",
       "      <th>DIST_MAINROAD</th>\n",
       "      <th>N_BEDROOM</th>\n",
       "      <th>N_BATHROOM</th>\n",
       "      <th>N_ROOM</th>\n",
       "      <th>QS_ROOMS</th>\n",
       "      <th>QS_BATHROOM</th>\n",
       "      <th>QS_BEDROOM</th>\n",
       "      <th>QS_OVERALL</th>\n",
       "      <th>COMMIS</th>\n",
       "      <th>SALES_PRICE</th>\n",
       "    </tr>\n",
       "  </thead>\n",
       "  <tbody>\n",
       "    <tr>\n",
       "      <th>INT_SQFT</th>\n",
       "      <td>1.000000</td>\n",
       "      <td>0.002022</td>\n",
       "      <td>0.786348</td>\n",
       "      <td>0.515390</td>\n",
       "      <td>0.951279</td>\n",
       "      <td>0.019850</td>\n",
       "      <td>-0.008337</td>\n",
       "      <td>0.008865</td>\n",
       "      <td>0.014025</td>\n",
       "      <td>0.571076</td>\n",
       "      <td>0.612125</td>\n",
       "    </tr>\n",
       "    <tr>\n",
       "      <th>DIST_MAINROAD</th>\n",
       "      <td>0.002022</td>\n",
       "      <td>1.000000</td>\n",
       "      <td>-0.002566</td>\n",
       "      <td>0.001970</td>\n",
       "      <td>0.002301</td>\n",
       "      <td>0.002237</td>\n",
       "      <td>-0.029468</td>\n",
       "      <td>0.001554</td>\n",
       "      <td>-0.017313</td>\n",
       "      <td>0.010994</td>\n",
       "      <td>0.018783</td>\n",
       "    </tr>\n",
       "    <tr>\n",
       "      <th>N_BEDROOM</th>\n",
       "      <td>0.786348</td>\n",
       "      <td>-0.002566</td>\n",
       "      <td>1.000000</td>\n",
       "      <td>0.755214</td>\n",
       "      <td>0.840286</td>\n",
       "      <td>0.015112</td>\n",
       "      <td>-0.007635</td>\n",
       "      <td>0.015569</td>\n",
       "      <td>0.014209</td>\n",
       "      <td>0.430424</td>\n",
       "      <td>0.330999</td>\n",
       "    </tr>\n",
       "    <tr>\n",
       "      <th>N_BATHROOM</th>\n",
       "      <td>0.515390</td>\n",
       "      <td>0.001970</td>\n",
       "      <td>0.755214</td>\n",
       "      <td>1.000000</td>\n",
       "      <td>0.568688</td>\n",
       "      <td>0.013112</td>\n",
       "      <td>-0.012057</td>\n",
       "      <td>0.013196</td>\n",
       "      <td>0.007907</td>\n",
       "      <td>0.256533</td>\n",
       "      <td>0.108884</td>\n",
       "    </tr>\n",
       "    <tr>\n",
       "      <th>N_ROOM</th>\n",
       "      <td>0.951279</td>\n",
       "      <td>0.002301</td>\n",
       "      <td>0.840286</td>\n",
       "      <td>0.568688</td>\n",
       "      <td>1.000000</td>\n",
       "      <td>0.016524</td>\n",
       "      <td>-0.007545</td>\n",
       "      <td>0.015072</td>\n",
       "      <td>0.015459</td>\n",
       "      <td>0.533343</td>\n",
       "      <td>0.602760</td>\n",
       "    </tr>\n",
       "    <tr>\n",
       "      <th>QS_ROOMS</th>\n",
       "      <td>0.019850</td>\n",
       "      <td>0.002237</td>\n",
       "      <td>0.015112</td>\n",
       "      <td>0.013112</td>\n",
       "      <td>0.016524</td>\n",
       "      <td>1.000000</td>\n",
       "      <td>0.008828</td>\n",
       "      <td>0.007789</td>\n",
       "      <td>0.517741</td>\n",
       "      <td>0.009377</td>\n",
       "      <td>0.021967</td>\n",
       "    </tr>\n",
       "    <tr>\n",
       "      <th>QS_BATHROOM</th>\n",
       "      <td>-0.008337</td>\n",
       "      <td>-0.029468</td>\n",
       "      <td>-0.007635</td>\n",
       "      <td>-0.012057</td>\n",
       "      <td>-0.007545</td>\n",
       "      <td>0.008828</td>\n",
       "      <td>1.000000</td>\n",
       "      <td>-0.011745</td>\n",
       "      <td>0.551125</td>\n",
       "      <td>-0.000471</td>\n",
       "      <td>-0.011377</td>\n",
       "    </tr>\n",
       "    <tr>\n",
       "      <th>QS_BEDROOM</th>\n",
       "      <td>0.008865</td>\n",
       "      <td>0.001554</td>\n",
       "      <td>0.015569</td>\n",
       "      <td>0.013196</td>\n",
       "      <td>0.015072</td>\n",
       "      <td>0.007789</td>\n",
       "      <td>-0.011745</td>\n",
       "      <td>1.000000</td>\n",
       "      <td>0.630447</td>\n",
       "      <td>0.020118</td>\n",
       "      <td>0.018804</td>\n",
       "    </tr>\n",
       "    <tr>\n",
       "      <th>QS_OVERALL</th>\n",
       "      <td>0.014025</td>\n",
       "      <td>-0.017313</td>\n",
       "      <td>0.014209</td>\n",
       "      <td>0.007907</td>\n",
       "      <td>0.015459</td>\n",
       "      <td>0.517741</td>\n",
       "      <td>0.551125</td>\n",
       "      <td>0.630447</td>\n",
       "      <td>1.000000</td>\n",
       "      <td>0.017004</td>\n",
       "      <td>0.020556</td>\n",
       "    </tr>\n",
       "    <tr>\n",
       "      <th>COMMIS</th>\n",
       "      <td>0.571076</td>\n",
       "      <td>0.010994</td>\n",
       "      <td>0.430424</td>\n",
       "      <td>0.256533</td>\n",
       "      <td>0.533343</td>\n",
       "      <td>0.009377</td>\n",
       "      <td>-0.000471</td>\n",
       "      <td>0.020118</td>\n",
       "      <td>0.017004</td>\n",
       "      <td>1.000000</td>\n",
       "      <td>0.626275</td>\n",
       "    </tr>\n",
       "    <tr>\n",
       "      <th>SALES_PRICE</th>\n",
       "      <td>0.612125</td>\n",
       "      <td>0.018783</td>\n",
       "      <td>0.330999</td>\n",
       "      <td>0.108884</td>\n",
       "      <td>0.602760</td>\n",
       "      <td>0.021967</td>\n",
       "      <td>-0.011377</td>\n",
       "      <td>0.018804</td>\n",
       "      <td>0.020556</td>\n",
       "      <td>0.626275</td>\n",
       "      <td>1.000000</td>\n",
       "    </tr>\n",
       "  </tbody>\n",
       "</table>\n",
       "</div>"
      ],
      "text/plain": [
       "               INT_SQFT  DIST_MAINROAD  N_BEDROOM  N_BATHROOM    N_ROOM  \\\n",
       "INT_SQFT       1.000000       0.002022   0.786348    0.515390  0.951279   \n",
       "DIST_MAINROAD  0.002022       1.000000  -0.002566    0.001970  0.002301   \n",
       "N_BEDROOM      0.786348      -0.002566   1.000000    0.755214  0.840286   \n",
       "N_BATHROOM     0.515390       0.001970   0.755214    1.000000  0.568688   \n",
       "N_ROOM         0.951279       0.002301   0.840286    0.568688  1.000000   \n",
       "QS_ROOMS       0.019850       0.002237   0.015112    0.013112  0.016524   \n",
       "QS_BATHROOM   -0.008337      -0.029468  -0.007635   -0.012057 -0.007545   \n",
       "QS_BEDROOM     0.008865       0.001554   0.015569    0.013196  0.015072   \n",
       "QS_OVERALL     0.014025      -0.017313   0.014209    0.007907  0.015459   \n",
       "COMMIS         0.571076       0.010994   0.430424    0.256533  0.533343   \n",
       "SALES_PRICE    0.612125       0.018783   0.330999    0.108884  0.602760   \n",
       "\n",
       "               QS_ROOMS  QS_BATHROOM  QS_BEDROOM  QS_OVERALL    COMMIS  \\\n",
       "INT_SQFT       0.019850    -0.008337    0.008865    0.014025  0.571076   \n",
       "DIST_MAINROAD  0.002237    -0.029468    0.001554   -0.017313  0.010994   \n",
       "N_BEDROOM      0.015112    -0.007635    0.015569    0.014209  0.430424   \n",
       "N_BATHROOM     0.013112    -0.012057    0.013196    0.007907  0.256533   \n",
       "N_ROOM         0.016524    -0.007545    0.015072    0.015459  0.533343   \n",
       "QS_ROOMS       1.000000     0.008828    0.007789    0.517741  0.009377   \n",
       "QS_BATHROOM    0.008828     1.000000   -0.011745    0.551125 -0.000471   \n",
       "QS_BEDROOM     0.007789    -0.011745    1.000000    0.630447  0.020118   \n",
       "QS_OVERALL     0.517741     0.551125    0.630447    1.000000  0.017004   \n",
       "COMMIS         0.009377    -0.000471    0.020118    0.017004  1.000000   \n",
       "SALES_PRICE    0.021967    -0.011377    0.018804    0.020556  0.626275   \n",
       "\n",
       "               SALES_PRICE  \n",
       "INT_SQFT          0.612125  \n",
       "DIST_MAINROAD     0.018783  \n",
       "N_BEDROOM         0.330999  \n",
       "N_BATHROOM        0.108884  \n",
       "N_ROOM            0.602760  \n",
       "QS_ROOMS          0.021967  \n",
       "QS_BATHROOM      -0.011377  \n",
       "QS_BEDROOM        0.018804  \n",
       "QS_OVERALL        0.020556  \n",
       "COMMIS            0.626275  \n",
       "SALES_PRICE       1.000000  "
      ]
     },
     "execution_count": 520,
     "metadata": {},
     "output_type": "execute_result"
    }
   ],
   "source": [
    "data.corr()"
   ]
  },
  {
   "cell_type": "code",
   "execution_count": 521,
   "metadata": {},
   "outputs": [
    {
     "data": {
      "text/plain": [
       "(7109, 19)"
      ]
     },
     "execution_count": 521,
     "metadata": {},
     "output_type": "execute_result"
    }
   ],
   "source": [
    "data.shape"
   ]
  },
  {
   "cell_type": "code",
   "execution_count": 545,
   "metadata": {},
   "outputs": [],
   "source": [
    "stringtwo = \", \".join(map(str,data.columns.values))"
   ]
  },
  {
   "cell_type": "code",
   "execution_count": 546,
   "metadata": {},
   "outputs": [
    {
     "data": {
      "text/plain": [
       "'PRT_ID, AREA, INT_SQFT, DIST_MAINROAD, N_BEDROOM, N_BATHROOM, N_ROOM, SALE_COND, PARK_FACIL, BUILDTYPE, UTILITY_AVAIL, STREET, MZZONE, QS_ROOMS, QS_BATHROOM, QS_BEDROOM, QS_OVERALL, COMMIS, SALES_PRICE'"
      ]
     },
     "execution_count": 546,
     "metadata": {},
     "output_type": "execute_result"
    }
   ],
   "source": [
    "stringtwo"
   ]
  },
  {
   "cell_type": "code",
   "execution_count": 524,
   "metadata": {},
   "outputs": [
    {
     "data": {
      "text/plain": [
       "INT_SQFT         1.000000\n",
       "N_ROOM           0.951279\n",
       "N_BEDROOM        0.786348\n",
       "SALES_PRICE      0.612125\n",
       "COMMIS           0.571076\n",
       "N_BATHROOM       0.515390\n",
       "QS_ROOMS         0.019850\n",
       "QS_OVERALL       0.014025\n",
       "QS_BEDROOM       0.008865\n",
       "DIST_MAINROAD    0.002022\n",
       "QS_BATHROOM     -0.008337\n",
       "Name: INT_SQFT, dtype: float64"
      ]
     },
     "execution_count": 524,
     "metadata": {},
     "output_type": "execute_result"
    }
   ],
   "source": [
    "data.corr()['INT_SQFT'].sort_values(ascending=False)"
   ]
  },
  {
   "cell_type": "code",
   "execution_count": 525,
   "metadata": {},
   "outputs": [
    {
     "data": {
      "text/plain": [
       "SALES_PRICE      1.000000\n",
       "COMMIS           0.626275\n",
       "INT_SQFT         0.612125\n",
       "N_ROOM           0.602760\n",
       "N_BEDROOM        0.330999\n",
       "N_BATHROOM       0.108884\n",
       "QS_ROOMS         0.021967\n",
       "QS_OVERALL       0.020556\n",
       "QS_BEDROOM       0.018804\n",
       "DIST_MAINROAD    0.018783\n",
       "QS_BATHROOM     -0.011377\n",
       "Name: SALES_PRICE, dtype: float64"
      ]
     },
     "execution_count": 525,
     "metadata": {},
     "output_type": "execute_result"
    }
   ],
   "source": [
    "data.corr()['SALES_PRICE'].sort_values(ascending=False)"
   ]
  },
  {
   "cell_type": "markdown",
   "metadata": {},
   "source": [
    "# Data Preprocessing "
   ]
  },
  {
   "cell_type": "code",
   "execution_count": 529,
   "metadata": {},
   "outputs": [],
   "source": [
    "housing_sales_price = data[['SALES_PRICE','INT_SQFT']]"
   ]
  },
  {
   "cell_type": "code",
   "execution_count": 547,
   "metadata": {},
   "outputs": [
    {
     "data": {
      "text/plain": [
       "SALES_PRICE    0\n",
       "INT_SQFT       0\n",
       "dtype: int64"
      ]
     },
     "execution_count": 547,
     "metadata": {},
     "output_type": "execute_result"
    }
   ],
   "source": [
    "housing_sales_price.isnull().sum()"
   ]
  },
  {
   "cell_type": "code",
   "execution_count": 530,
   "metadata": {},
   "outputs": [
    {
     "data": {
      "text/html": [
       "<div>\n",
       "<style scoped>\n",
       "    .dataframe tbody tr th:only-of-type {\n",
       "        vertical-align: middle;\n",
       "    }\n",
       "\n",
       "    .dataframe tbody tr th {\n",
       "        vertical-align: top;\n",
       "    }\n",
       "\n",
       "    .dataframe thead th {\n",
       "        text-align: right;\n",
       "    }\n",
       "</style>\n",
       "<table border=\"1\" class=\"dataframe\">\n",
       "  <thead>\n",
       "    <tr style=\"text-align: right;\">\n",
       "      <th></th>\n",
       "      <th>SALES_PRICE</th>\n",
       "      <th>INT_SQFT</th>\n",
       "    </tr>\n",
       "  </thead>\n",
       "  <tbody>\n",
       "    <tr>\n",
       "      <th>SALES_PRICE</th>\n",
       "      <td>1.000000</td>\n",
       "      <td>0.612125</td>\n",
       "    </tr>\n",
       "    <tr>\n",
       "      <th>INT_SQFT</th>\n",
       "      <td>0.612125</td>\n",
       "      <td>1.000000</td>\n",
       "    </tr>\n",
       "  </tbody>\n",
       "</table>\n",
       "</div>"
      ],
      "text/plain": [
       "             SALES_PRICE  INT_SQFT\n",
       "SALES_PRICE     1.000000  0.612125\n",
       "INT_SQFT        0.612125  1.000000"
      ]
     },
     "execution_count": 530,
     "metadata": {},
     "output_type": "execute_result"
    }
   ],
   "source": [
    "housing_sales_price.corr()"
   ]
  },
  {
   "cell_type": "markdown",
   "metadata": {},
   "source": [
    "# Data visualization"
   ]
  },
  {
   "cell_type": "code",
   "execution_count": 531,
   "metadata": {},
   "outputs": [],
   "source": [
    "#housing_sales_price  = housing_sales_price[0:3000]"
   ]
  },
  {
   "cell_type": "code",
   "execution_count": 532,
   "metadata": {},
   "outputs": [
    {
     "data": {
      "image/png": "[encoded data removed]",
      "text/plain": [
       "<Figure size 432x288 with 1 Axes>"
      ]
     },
     "metadata": {
      "needs_background": "light"
     },
     "output_type": "display_data"
    }
   ],
   "source": [
    "housing_sales_price.plot(kind=\"scatter\",x=\"INT_SQFT\",y=\"SALES_PRICE\")\n",
    "plt.show()"
   ]
  },
  {
   "cell_type": "markdown",
   "metadata": {},
   "source": [
    "# Split data into train , validation , and test set"
   ]
  },
  {
   "cell_type": "code",
   "execution_count": 533,
   "metadata": {},
   "outputs": [],
   "source": [
    "X = pd.DataFrame(housing_sales_price['INT_SQFT'])\n",
    "Y = pd.DataFrame(housing_sales_price['SALES_PRICE'])"
   ]
  },
  {
   "cell_type": "code",
   "execution_count": null,
   "metadata": {},
   "outputs": [],
   "source": []
  },
  {
   "cell_type": "code",
   "execution_count": 534,
   "metadata": {},
   "outputs": [],
   "source": [
    "from sklearn.model_selection import train_test_split\n",
    "\n",
    "X_train , X_test, y_train, y_test = train_test_split(X, Y, test_size=0.2, random_state=200)\n",
    "\n"
   ]
  },
  {
   "cell_type": "markdown",
   "metadata": {},
   "source": [
    "# Train the Model"
   ]
  },
  {
   "cell_type": "code",
   "execution_count": 535,
   "metadata": {},
   "outputs": [
    {
     "data": {
      "text/plain": [
       "LinearRegression()"
      ]
     },
     "execution_count": 535,
     "metadata": {},
     "output_type": "execute_result"
    }
   ],
   "source": [
    "from sklearn import linear_model, metrics\n",
    "import numpy as np\n",
    "model = linear_model.LinearRegression()\n",
    "model.fit(X_train , y_train)"
   ]
  },
  {
   "cell_type": "code",
   "execution_count": 536,
   "metadata": {
    "scrolled": true
   },
   "outputs": [
    {
     "name": "stdout",
     "output_type": "stream",
     "text": [
      "Model coefficient :  [[4964.81418485]] \n",
      "\n",
      " Model intercept :  [4022777.51445733]\n"
     ]
    }
   ],
   "source": [
    "print(\"Model coefficient : \" ,model.coef_, \"\\n\\n Model intercept : \",model.intercept_)"
   ]
  },
  {
   "cell_type": "code",
   "execution_count": 537,
   "metadata": {},
   "outputs": [
    {
     "data": {
      "text/plain": [
       "0.402222166666651"
      ]
     },
     "execution_count": 537,
     "metadata": {},
     "output_type": "execute_result"
    }
   ],
   "source": [
    "model.score(X_test,y_test)"
   ]
  },
  {
   "cell_type": "code",
   "execution_count": 538,
   "metadata": {},
   "outputs": [
    {
     "data": {
      "text/html": [
       "<div>\n",
       "<style scoped>\n",
       "    .dataframe tbody tr th:only-of-type {\n",
       "        vertical-align: middle;\n",
       "    }\n",
       "\n",
       "    .dataframe tbody tr th {\n",
       "        vertical-align: top;\n",
       "    }\n",
       "\n",
       "    .dataframe thead th {\n",
       "        text-align: right;\n",
       "    }\n",
       "</style>\n",
       "<table border=\"1\" class=\"dataframe\">\n",
       "  <thead>\n",
       "    <tr style=\"text-align: right;\">\n",
       "      <th></th>\n",
       "      <th>INT_SQFT</th>\n",
       "    </tr>\n",
       "  </thead>\n",
       "  <tbody>\n",
       "    <tr>\n",
       "      <th>5031</th>\n",
       "      <td>917</td>\n",
       "    </tr>\n",
       "    <tr>\n",
       "      <th>5617</th>\n",
       "      <td>517</td>\n",
       "    </tr>\n",
       "    <tr>\n",
       "      <th>6101</th>\n",
       "      <td>1418</td>\n",
       "    </tr>\n",
       "    <tr>\n",
       "      <th>3597</th>\n",
       "      <td>768</td>\n",
       "    </tr>\n",
       "    <tr>\n",
       "      <th>3832</th>\n",
       "      <td>1934</td>\n",
       "    </tr>\n",
       "    <tr>\n",
       "      <th>...</th>\n",
       "      <td>...</td>\n",
       "    </tr>\n",
       "    <tr>\n",
       "      <th>2858</th>\n",
       "      <td>1884</td>\n",
       "    </tr>\n",
       "    <tr>\n",
       "      <th>5956</th>\n",
       "      <td>868</td>\n",
       "    </tr>\n",
       "    <tr>\n",
       "      <th>784</th>\n",
       "      <td>998</td>\n",
       "    </tr>\n",
       "    <tr>\n",
       "      <th>4713</th>\n",
       "      <td>1667</td>\n",
       "    </tr>\n",
       "    <tr>\n",
       "      <th>1818</th>\n",
       "      <td>1868</td>\n",
       "    </tr>\n",
       "  </tbody>\n",
       "</table>\n",
       "<p>5687 rows × 1 columns</p>\n",
       "</div>"
      ],
      "text/plain": [
       "      INT_SQFT\n",
       "5031       917\n",
       "5617       517\n",
       "6101      1418\n",
       "3597       768\n",
       "3832      1934\n",
       "...        ...\n",
       "2858      1884\n",
       "5956       868\n",
       "784        998\n",
       "4713      1667\n",
       "1818      1868\n",
       "\n",
       "[5687 rows x 1 columns]"
      ]
     },
     "execution_count": 538,
     "metadata": {},
     "output_type": "execute_result"
    }
   ],
   "source": [
    "X_train"
   ]
  },
  {
   "cell_type": "code",
   "execution_count": 541,
   "metadata": {},
   "outputs": [],
   "source": [
    "y_pred = model.predict(X_test)"
   ]
  },
  {
   "cell_type": "code",
   "execution_count": 544,
   "metadata": {},
   "outputs": [
    {
     "data": {
      "text/plain": [
       "2988547.685617177"
      ]
     },
     "execution_count": 544,
     "metadata": {},
     "output_type": "execute_result"
    }
   ],
   "source": [
    "np.sqrt(metrics.mean_squared_error(y_test,y_pred ))"
   ]
  }
 ],
 "metadata": {
  "kernelspec": {
   "display_name": "Python 3",
   "language": "python",
   "name": "python3"
  },
  "language_info": {
   "codemirror_mode": {
    "name": "ipython",
    "version": 3
   },
   "file_extension": ".py",
   "mimetype": "text/x-python",
   "name": "python",
   "nbconvert_exporter": "python",
   "pygments_lexer": "ipython3",
   "version": "3.8.3"
  }
 },
 "nbformat": 4,
 "nbformat_minor": 4
}
